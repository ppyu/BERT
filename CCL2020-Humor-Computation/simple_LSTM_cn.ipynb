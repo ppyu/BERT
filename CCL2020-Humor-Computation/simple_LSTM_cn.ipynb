{
 "cells": [
  {
   "cell_type": "code",
   "execution_count": 1,
   "metadata": {},
   "outputs": [
    {
     "name": "stdout",
     "output_type": "stream",
     "text": [
      "2.1.0\n"
     ]
    }
   ],
   "source": [
    "import tensorflow as tf\n",
    "from tensorflow import keras\n",
    "import jieba\n",
    "import pandas as pd\n",
    "from matplotlib import pyplot as plt\n",
    "import numpy as np\n",
    "from tensorflow.keras.layers import Embedding, LSTM, Dense\n",
    "import sklearn\n",
    "from tensorflow.keras.callbacks import Callback\n",
    "from sklearn.metrics import f1_score, precision_score, recall_score, accuracy_score\n",
    "from sklearn.model_selection import train_test_split\n",
    "from collections import Counter\n",
    "import os\n",
    "\n",
    "print(tf.__version__)"
   ]
  },
  {
   "cell_type": "code",
   "execution_count": 2,
   "metadata": {},
   "outputs": [
    {
     "data": {
      "text/plain": [
       "['answer_example.csv',\n",
       " 'cn_dev.csv',\n",
       " 'cn_train.csv',\n",
       " 'en_dev.csv',\n",
       " 'en_train.csv',\n",
       " '评价指标说明.md']"
      ]
     },
     "execution_count": 2,
     "metadata": {},
     "output_type": "execute_result"
    }
   ],
   "source": [
    "data_path= \"./train_dev_data/\"\n",
    "\n",
    "os.listdir(data_path)"
   ]
  },
  {
   "cell_type": "code",
   "execution_count": 3,
   "metadata": {},
   "outputs": [
    {
     "data": {
      "text/html": [
       "<div>\n",
       "<style scoped>\n",
       "    .dataframe tbody tr th:only-of-type {\n",
       "        vertical-align: middle;\n",
       "    }\n",
       "\n",
       "    .dataframe tbody tr th {\n",
       "        vertical-align: top;\n",
       "    }\n",
       "\n",
       "    .dataframe thead th {\n",
       "        text-align: right;\n",
       "    }\n",
       "</style>\n",
       "<table border=\"1\" class=\"dataframe\">\n",
       "  <thead>\n",
       "    <tr style=\"text-align: right;\">\n",
       "      <th></th>\n",
       "      <th>Dialogue_id</th>\n",
       "      <th>Utterance_id</th>\n",
       "      <th>Speaker</th>\n",
       "      <th>Sentence</th>\n",
       "      <th>Label</th>\n",
       "    </tr>\n",
       "    <tr>\n",
       "      <th>ID</th>\n",
       "      <th></th>\n",
       "      <th></th>\n",
       "      <th></th>\n",
       "      <th></th>\n",
       "      <th></th>\n",
       "    </tr>\n",
       "  </thead>\n",
       "  <tbody>\n",
       "    <tr>\n",
       "      <th>0</th>\n",
       "      <td>0</td>\n",
       "      <td>0</td>\n",
       "      <td>卖油条小刘</td>\n",
       "      <td>我说</td>\n",
       "      <td>0</td>\n",
       "    </tr>\n",
       "    <tr>\n",
       "      <th>1</th>\n",
       "      <td>0</td>\n",
       "      <td>1</td>\n",
       "      <td>保姆小张</td>\n",
       "      <td>干啥子嘛？</td>\n",
       "      <td>0</td>\n",
       "    </tr>\n",
       "    <tr>\n",
       "      <th>2</th>\n",
       "      <td>0</td>\n",
       "      <td>2</td>\n",
       "      <td>卖油条小刘</td>\n",
       "      <td>你看你往星空看月朦胧，鸟朦胧</td>\n",
       "      <td>1</td>\n",
       "    </tr>\n",
       "    <tr>\n",
       "      <th>3</th>\n",
       "      <td>0</td>\n",
       "      <td>3</td>\n",
       "      <td>卖油条小刘</td>\n",
       "      <td>咱是不是歇一下这双，疲惫的双腿？</td>\n",
       "      <td>0</td>\n",
       "    </tr>\n",
       "    <tr>\n",
       "      <th>4</th>\n",
       "      <td>0</td>\n",
       "      <td>4</td>\n",
       "      <td>卖油条小刘</td>\n",
       "      <td>快把我累死了</td>\n",
       "      <td>0</td>\n",
       "    </tr>\n",
       "  </tbody>\n",
       "</table>\n",
       "</div>"
      ],
      "text/plain": [
       "    Dialogue_id  Utterance_id Speaker          Sentence  Label\n",
       "ID                                                            \n",
       "0             0             0   卖油条小刘                我说      0\n",
       "1             0             1    保姆小张             干啥子嘛？      0\n",
       "2             0             2   卖油条小刘    你看你往星空看月朦胧，鸟朦胧      1\n",
       "3             0             3   卖油条小刘  咱是不是歇一下这双，疲惫的双腿？      0\n",
       "4             0             4   卖油条小刘            快把我累死了      0"
      ]
     },
     "execution_count": 3,
     "metadata": {},
     "output_type": "execute_result"
    }
   ],
   "source": [
    "data_frame=pd.read_csv(data_path+'cn_train.csv',index_col='ID')\n",
    "data_frame.head()"
   ]
  },
  {
   "cell_type": "code",
   "execution_count": 4,
   "metadata": {},
   "outputs": [
    {
     "name": "stdout",
     "output_type": "stream",
     "text": [
      "348\n"
     ]
    }
   ],
   "source": [
    "dialogue_size=data_frame['Dialogue_id'].max()+1\n",
    "print(dialogue_size)"
   ]
  },
  {
   "cell_type": "code",
   "execution_count": 5,
   "metadata": {},
   "outputs": [
    {
     "data": {
      "text/html": [
       "<div>\n",
       "<style scoped>\n",
       "    .dataframe tbody tr th:only-of-type {\n",
       "        vertical-align: middle;\n",
       "    }\n",
       "\n",
       "    .dataframe tbody tr th {\n",
       "        vertical-align: top;\n",
       "    }\n",
       "\n",
       "    .dataframe thead th {\n",
       "        text-align: right;\n",
       "    }\n",
       "</style>\n",
       "<table border=\"1\" class=\"dataframe\">\n",
       "  <thead>\n",
       "    <tr style=\"text-align: right;\">\n",
       "      <th></th>\n",
       "      <th>Dialogue_id</th>\n",
       "      <th>Utterance_id</th>\n",
       "      <th>Speaker</th>\n",
       "      <th>Sentence</th>\n",
       "      <th>Label</th>\n",
       "    </tr>\n",
       "    <tr>\n",
       "      <th>ID</th>\n",
       "      <th></th>\n",
       "      <th></th>\n",
       "      <th></th>\n",
       "      <th></th>\n",
       "      <th></th>\n",
       "    </tr>\n",
       "  </thead>\n",
       "  <tbody>\n",
       "    <tr>\n",
       "      <th>0</th>\n",
       "      <td>0</td>\n",
       "      <td>0</td>\n",
       "      <td>卖油条小刘</td>\n",
       "      <td>我说</td>\n",
       "      <td>0</td>\n",
       "    </tr>\n",
       "    <tr>\n",
       "      <th>1</th>\n",
       "      <td>0</td>\n",
       "      <td>1</td>\n",
       "      <td>保姆小张</td>\n",
       "      <td>干啥子嘛？</td>\n",
       "      <td>0</td>\n",
       "    </tr>\n",
       "    <tr>\n",
       "      <th>2</th>\n",
       "      <td>0</td>\n",
       "      <td>2</td>\n",
       "      <td>卖油条小刘</td>\n",
       "      <td>你看你往星空看月朦胧，鸟朦胧</td>\n",
       "      <td>1</td>\n",
       "    </tr>\n",
       "    <tr>\n",
       "      <th>3</th>\n",
       "      <td>0</td>\n",
       "      <td>3</td>\n",
       "      <td>卖油条小刘</td>\n",
       "      <td>咱是不是歇一下这双，疲惫的双腿？</td>\n",
       "      <td>0</td>\n",
       "    </tr>\n",
       "    <tr>\n",
       "      <th>4</th>\n",
       "      <td>0</td>\n",
       "      <td>4</td>\n",
       "      <td>卖油条小刘</td>\n",
       "      <td>快把我累死了</td>\n",
       "      <td>0</td>\n",
       "    </tr>\n",
       "    <tr>\n",
       "      <th>5</th>\n",
       "      <td>0</td>\n",
       "      <td>5</td>\n",
       "      <td>卖油条小刘</td>\n",
       "      <td>我说亲爱的大姐你贵姓啊？</td>\n",
       "      <td>1</td>\n",
       "    </tr>\n",
       "    <tr>\n",
       "      <th>6</th>\n",
       "      <td>0</td>\n",
       "      <td>6</td>\n",
       "      <td>保姆小张</td>\n",
       "      <td>我免贵姓张我叫张凤姑</td>\n",
       "      <td>0</td>\n",
       "    </tr>\n",
       "    <tr>\n",
       "      <th>7</th>\n",
       "      <td>0</td>\n",
       "      <td>7</td>\n",
       "      <td>卖油条小刘</td>\n",
       "      <td>凤姑</td>\n",
       "      <td>0</td>\n",
       "    </tr>\n",
       "    <tr>\n",
       "      <th>8</th>\n",
       "      <td>0</td>\n",
       "      <td>8</td>\n",
       "      <td>保姆小张</td>\n",
       "      <td>天天买你的油条还没有问过师傅，你贵姓啊？</td>\n",
       "      <td>0</td>\n",
       "    </tr>\n",
       "    <tr>\n",
       "      <th>9</th>\n",
       "      <td>0</td>\n",
       "      <td>9</td>\n",
       "      <td>卖油条小刘</td>\n",
       "      <td>我免贵，我姓刘，我叫刘建军</td>\n",
       "      <td>0</td>\n",
       "    </tr>\n",
       "    <tr>\n",
       "      <th>10</th>\n",
       "      <td>0</td>\n",
       "      <td>10</td>\n",
       "      <td>卖油条小刘</td>\n",
       "      <td>凤姑姑</td>\n",
       "      <td>0</td>\n",
       "    </tr>\n",
       "    <tr>\n",
       "      <th>11</th>\n",
       "      <td>0</td>\n",
       "      <td>11</td>\n",
       "      <td>卖油条小刘</td>\n",
       "      <td>我的姑啊我亲爱的姑</td>\n",
       "      <td>1</td>\n",
       "    </tr>\n",
       "    <tr>\n",
       "      <th>12</th>\n",
       "      <td>0</td>\n",
       "      <td>12</td>\n",
       "      <td>卖油条小刘</td>\n",
       "      <td>我怎么那么别扭呢？</td>\n",
       "      <td>1</td>\n",
       "    </tr>\n",
       "    <tr>\n",
       "      <th>13</th>\n",
       "      <td>0</td>\n",
       "      <td>13</td>\n",
       "      <td>卖油条小刘</td>\n",
       "      <td>我自从见了你以后我的这个生活，我的这个事业发生了翻天覆地的变化</td>\n",
       "      <td>0</td>\n",
       "    </tr>\n",
       "    <tr>\n",
       "      <th>14</th>\n",
       "      <td>0</td>\n",
       "      <td>14</td>\n",
       "      <td>卖油条小刘</td>\n",
       "      <td>只要你的身影，从那个胡同口噌一出现</td>\n",
       "      <td>0</td>\n",
       "    </tr>\n",
       "    <tr>\n",
       "      <th>15</th>\n",
       "      <td>0</td>\n",
       "      <td>15</td>\n",
       "      <td>卖油条小刘</td>\n",
       "      <td>我的这个心里头就像那个油锅一样咕噜噜，咕噜噜，热血沸腾</td>\n",
       "      <td>1</td>\n",
       "    </tr>\n",
       "    <tr>\n",
       "      <th>16</th>\n",
       "      <td>0</td>\n",
       "      <td>16</td>\n",
       "      <td>卖油条小刘</td>\n",
       "      <td>我跟你说吧咱们两个是同样的理想，同样的心</td>\n",
       "      <td>0</td>\n",
       "    </tr>\n",
       "    <tr>\n",
       "      <th>17</th>\n",
       "      <td>0</td>\n",
       "      <td>17</td>\n",
       "      <td>卖油条小刘</td>\n",
       "      <td>同是天涯沦落人天下农友心连心穷不帮穷谁照应？</td>\n",
       "      <td>1</td>\n",
       "    </tr>\n",
       "    <tr>\n",
       "      <th>18</th>\n",
       "      <td>0</td>\n",
       "      <td>18</td>\n",
       "      <td>卖油条小刘</td>\n",
       "      <td>我都说了半天了，你倒说话呀</td>\n",
       "      <td>0</td>\n",
       "    </tr>\n",
       "    <tr>\n",
       "      <th>19</th>\n",
       "      <td>0</td>\n",
       "      <td>19</td>\n",
       "      <td>保姆小张</td>\n",
       "      <td>我是在用不在乎，掩藏真心</td>\n",
       "      <td>1</td>\n",
       "    </tr>\n",
       "    <tr>\n",
       "      <th>20</th>\n",
       "      <td>0</td>\n",
       "      <td>20</td>\n",
       "      <td>卖油条小刘</td>\n",
       "      <td>我这就想抓起你的手让你这就跟我走</td>\n",
       "      <td>0</td>\n",
       "    </tr>\n",
       "    <tr>\n",
       "      <th>21</th>\n",
       "      <td>0</td>\n",
       "      <td>21</td>\n",
       "      <td>保姆小张</td>\n",
       "      <td>莫慌喽谁知道你明天是否依然爱我？</td>\n",
       "      <td>1</td>\n",
       "    </tr>\n",
       "    <tr>\n",
       "      <th>22</th>\n",
       "      <td>0</td>\n",
       "      <td>22</td>\n",
       "      <td>卖油条小刘</td>\n",
       "      <td>你连我都不相信了？我已经准备好了我想用此情换此生了</td>\n",
       "      <td>0</td>\n",
       "    </tr>\n",
       "    <tr>\n",
       "      <th>23</th>\n",
       "      <td>0</td>\n",
       "      <td>23</td>\n",
       "      <td>保姆小张</td>\n",
       "      <td>真希望这场梦没有醒来的时候</td>\n",
       "      <td>0</td>\n",
       "    </tr>\n",
       "    <tr>\n",
       "      <th>24</th>\n",
       "      <td>0</td>\n",
       "      <td>24</td>\n",
       "      <td>卖油条小刘</td>\n",
       "      <td>只有你和我直到永远</td>\n",
       "      <td>0</td>\n",
       "    </tr>\n",
       "  </tbody>\n",
       "</table>\n",
       "</div>"
      ],
      "text/plain": [
       "    Dialogue_id  Utterance_id Speaker                         Sentence  Label\n",
       "ID                                                                           \n",
       "0             0             0   卖油条小刘                               我说      0\n",
       "1             0             1    保姆小张                            干啥子嘛？      0\n",
       "2             0             2   卖油条小刘                   你看你往星空看月朦胧，鸟朦胧      1\n",
       "3             0             3   卖油条小刘                 咱是不是歇一下这双，疲惫的双腿？      0\n",
       "4             0             4   卖油条小刘                           快把我累死了      0\n",
       "5             0             5   卖油条小刘                     我说亲爱的大姐你贵姓啊？      1\n",
       "6             0             6    保姆小张                       我免贵姓张我叫张凤姑      0\n",
       "7             0             7   卖油条小刘                               凤姑      0\n",
       "8             0             8    保姆小张             天天买你的油条还没有问过师傅，你贵姓啊？      0\n",
       "9             0             9   卖油条小刘                    我免贵，我姓刘，我叫刘建军      0\n",
       "10            0            10   卖油条小刘                              凤姑姑      0\n",
       "11            0            11   卖油条小刘                        我的姑啊我亲爱的姑      1\n",
       "12            0            12   卖油条小刘                        我怎么那么别扭呢？      1\n",
       "13            0            13   卖油条小刘  我自从见了你以后我的这个生活，我的这个事业发生了翻天覆地的变化      0\n",
       "14            0            14   卖油条小刘                只要你的身影，从那个胡同口噌一出现      0\n",
       "15            0            15   卖油条小刘      我的这个心里头就像那个油锅一样咕噜噜，咕噜噜，热血沸腾      1\n",
       "16            0            16   卖油条小刘             我跟你说吧咱们两个是同样的理想，同样的心      0\n",
       "17            0            17   卖油条小刘           同是天涯沦落人天下农友心连心穷不帮穷谁照应？      1\n",
       "18            0            18   卖油条小刘                    我都说了半天了，你倒说话呀      0\n",
       "19            0            19    保姆小张                     我是在用不在乎，掩藏真心      1\n",
       "20            0            20   卖油条小刘                 我这就想抓起你的手让你这就跟我走      0\n",
       "21            0            21    保姆小张                 莫慌喽谁知道你明天是否依然爱我？      1\n",
       "22            0            22   卖油条小刘        你连我都不相信了？我已经准备好了我想用此情换此生了      0\n",
       "23            0            23    保姆小张                    真希望这场梦没有醒来的时候      0\n",
       "24            0            24   卖油条小刘                        只有你和我直到永远      0"
      ]
     },
     "execution_count": 5,
     "metadata": {},
     "output_type": "execute_result"
    }
   ],
   "source": [
    "sub_data_frame_list=[]\n",
    "for i in range(dialogue_size):\n",
    "    sub_data_frame_list.append(data_frame[data_frame['Dialogue_id']==i])\n",
    "sub_data_frame_list[0]"
   ]
  },
  {
   "cell_type": "code",
   "execution_count": 6,
   "metadata": {},
   "outputs": [],
   "source": [
    "def stop_words(path):\n",
    "    with open(path,encoding='utf-8') as f:\n",
    "        return [l.strip() for l in f]"
   ]
  },
  {
   "cell_type": "code",
   "execution_count": 7,
   "metadata": {},
   "outputs": [
    {
     "name": "stderr",
     "output_type": "stream",
     "text": [
      "Building prefix dict from the default dictionary ...\n",
      "Loading model from cache C:\\Users\\97110\\AppData\\Local\\Temp\\jieba.cache\n",
      "Loading model cost 0.715 seconds.\n",
      "Prefix dict has been built successfully.\n"
     ]
    },
    {
     "name": "stdout",
     "output_type": "stream",
     "text": [
      "True\n"
     ]
    }
   ],
   "source": [
    "words_3d_list=[]\n",
    "for sub_data_frame in sub_data_frame_list:\n",
    "    words_2d_list=[]\n",
    "    for sentence in sub_data_frame['Sentence']:\n",
    "        # words_2d_list.append([x for x in jieba.cut(sentence) if x not in stop_words('./stop_words.txt')])\n",
    "        words_2d_list.append([x for x in jieba.cut(sentence)])\n",
    "    words_3d_list.append(words_2d_list)\n",
    "print(len(words_3d_list)==dialogue_size)"
   ]
  },
  {
   "cell_type": "code",
   "execution_count": 8,
   "metadata": {},
   "outputs": [
    {
     "name": "stdout",
     "output_type": "stream",
     "text": [
      "['咱', '是不是', '歇', '一下', '这', '双', '，', '疲惫', '的', '双腿', '？']\n"
     ]
    }
   ],
   "source": [
    "print(words_3d_list[0][3])"
   ]
  },
  {
   "cell_type": "code",
   "execution_count": 9,
   "metadata": {},
   "outputs": [
    {
     "name": "stdout",
     "output_type": "stream",
     "text": [
      "True\n",
      "['我', '说', '干', '啥子', '嘛', '？', '你', '看', '你', '往', '星空', '看', '月', '朦胧', '，', '鸟', '朦胧', '咱', '是不是', '歇', '一下', '这', '双', '，', '疲惫', '的', '双腿', '？', '快', '把', '我', '累死', '了', '我', '说', '亲爱', '的', '大姐', '你', '贵姓', '啊', '？', '我免', '贵姓', '张', '我', '叫', '张凤姑']\n"
     ]
    }
   ],
   "source": [
    "# context_size:上下文窗口大小。\n",
    "context_size=3\n",
    "\n",
    "new_words_3d_list=[]\n",
    "for i,words_2d_list in enumerate(words_3d_list):\n",
    "    new_words_2d_list=[]\n",
    "    for j in range(len(words_2d_list)):\n",
    "        words=[]\n",
    "        left = j-context_size if (j-context_size)>=0 else 0\n",
    "        right= j+context_size if (j+context_size)<len(words_2d_list) else len(words_2d_list)-1\n",
    "        for context_step in range(left,right+1):\n",
    "            words.extend(words_2d_list[context_step])\n",
    "        new_words_2d_list.append(words)\n",
    "    new_words_3d_list.append(new_words_2d_list)\n",
    "print(len(new_words_3d_list)==dialogue_size)\n",
    "print(new_words_3d_list[0][3])"
   ]
  },
  {
   "cell_type": "code",
   "execution_count": 10,
   "metadata": {},
   "outputs": [
    {
     "name": "stdout",
     "output_type": "stream",
     "text": [
      "65\n",
      "5\n",
      "286\n"
     ]
    }
   ],
   "source": [
    "length_list=[]\n",
    "for new_words_2d_list in new_words_3d_list:\n",
    "    for words in new_words_2d_list:\n",
    "        length_list.append(len(words))\n",
    "\n",
    "print(sorted(length_list)[len(length_list) // 2])\n",
    "print(min(length_list)) \n",
    "print(max(length_list))"
   ]
  },
  {
   "cell_type": "code",
   "execution_count": 11,
   "metadata": {},
   "outputs": [],
   "source": [
    "max_length=256"
   ]
  },
  {
   "cell_type": "code",
   "execution_count": 12,
   "metadata": {},
   "outputs": [
    {
     "name": "stdout",
     "output_type": "stream",
     "text": [
      "13827\n"
     ]
    }
   ],
   "source": [
    "word_set=set()\n",
    "for new_words_2d_list in new_words_3d_list:\n",
    "    for words in new_words_2d_list:\n",
    "        word_set=word_set.union(set(words))\n",
    "vcab_size=len(word_set)\n",
    "print(vcab_size)"
   ]
  },
  {
   "cell_type": "code",
   "execution_count": 13,
   "metadata": {},
   "outputs": [],
   "source": [
    "# 索引从1开始\n",
    "word_index = 1\n",
    "word2index = {}\n",
    "for word in word_set:\n",
    "    word2index[word] = word_index\n",
    "    word_index += 1"
   ]
  },
  {
   "cell_type": "code",
   "execution_count": 14,
   "metadata": {},
   "outputs": [
    {
     "name": "stdout",
     "output_type": "stream",
     "text": [
      "[ 7171.  7597.   528.  9269. 10628.  4587.  2836.  2105.  2836.  8820.\n",
      "  4674.  2105.  9359.  3950. 11805.  9407.  3950.  6388.  1294.  1500.\n",
      "   363.  9030.  7072. 11805.  1012.  3324.  7999.  4587.     0.     0.\n",
      "     0.     0.     0.     0.     0.     0.     0.     0.     0.     0.\n",
      "     0.     0.     0.     0.     0.     0.     0.     0.     0.     0.\n",
      "     0.     0.     0.     0.     0.     0.     0.     0.     0.     0.\n",
      "     0.     0.     0.     0.     0.     0.     0.     0.     0.     0.\n",
      "     0.     0.     0.     0.     0.     0.     0.     0.     0.     0.\n",
      "     0.     0.     0.     0.     0.     0.     0.     0.     0.     0.\n",
      "     0.     0.     0.     0.     0.     0.     0.     0.     0.     0.\n",
      "     0.     0.     0.     0.     0.     0.     0.     0.     0.     0.\n",
      "     0.     0.     0.     0.     0.     0.     0.     0.     0.     0.\n",
      "     0.     0.     0.     0.     0.     0.     0.     0.     0.     0.\n",
      "     0.     0.     0.     0.     0.     0.     0.     0.     0.     0.\n",
      "     0.     0.     0.     0.     0.     0.     0.     0.     0.     0.\n",
      "     0.     0.     0.     0.     0.     0.     0.     0.     0.     0.\n",
      "     0.     0.     0.     0.     0.     0.     0.     0.     0.     0.\n",
      "     0.     0.     0.     0.     0.     0.     0.     0.     0.     0.\n",
      "     0.     0.     0.     0.     0.     0.     0.     0.     0.     0.\n",
      "     0.     0.     0.     0.     0.     0.     0.     0.     0.     0.\n",
      "     0.     0.     0.     0.     0.     0.     0.     0.     0.     0.\n",
      "     0.     0.     0.     0.     0.     0.     0.     0.     0.     0.\n",
      "     0.     0.     0.     0.     0.     0.     0.     0.     0.     0.\n",
      "     0.     0.     0.     0.     0.     0.     0.     0.     0.     0.\n",
      "     0.     0.     0.     0.     0.     0.     0.     0.     0.     0.\n",
      "     0.     0.     0.     0.     0.     0.]\n",
      "[ 1013.  4256. 12117.  3838. 10587. 11414. 11414.  8148. 10061.  1044.\n",
      "  1702.  8931.  4034. 11468. 10915.  4148.  1013.  2877.  1570.  9949.\n",
      "  1937.  4063.  1926. 12355.  1702.  6045.  8901.  3324.  4156. 11805.\n",
      "  4156.  6515. 12247. 11805. 12216. 12216. 12216. 11805.  7171.  7729.\n",
      "  2729.   648. 11468.  7171.  2766. 10864.  3324.  6632.  6487.  9243.\n",
      " 13386.  7086. 10628.     0.     0.     0.     0.     0.     0.     0.\n",
      "     0.     0.     0.     0.     0.     0.     0.     0.     0.     0.\n",
      "     0.     0.     0.     0.     0.     0.     0.     0.     0.     0.\n",
      "     0.     0.     0.     0.     0.     0.     0.     0.     0.     0.\n",
      "     0.     0.     0.     0.     0.     0.     0.     0.     0.     0.\n",
      "     0.     0.     0.     0.     0.     0.     0.     0.     0.     0.\n",
      "     0.     0.     0.     0.     0.     0.     0.     0.     0.     0.\n",
      "     0.     0.     0.     0.     0.     0.     0.     0.     0.     0.\n",
      "     0.     0.     0.     0.     0.     0.     0.     0.     0.     0.\n",
      "     0.     0.     0.     0.     0.     0.     0.     0.     0.     0.\n",
      "     0.     0.     0.     0.     0.     0.     0.     0.     0.     0.\n",
      "     0.     0.     0.     0.     0.     0.     0.     0.     0.     0.\n",
      "     0.     0.     0.     0.     0.     0.     0.     0.     0.     0.\n",
      "     0.     0.     0.     0.     0.     0.     0.     0.     0.     0.\n",
      "     0.     0.     0.     0.     0.     0.     0.     0.     0.     0.\n",
      "     0.     0.     0.     0.     0.     0.     0.     0.     0.     0.\n",
      "     0.     0.     0.     0.     0.     0.     0.     0.     0.     0.\n",
      "     0.     0.     0.     0.     0.     0.     0.     0.     0.     0.\n",
      "     0.     0.     0.     0.     0.     0.     0.     0.     0.     0.\n",
      "     0.     0.     0.     0.     0.     0.     0.     0.     0.     0.\n",
      "     0.     0.     0.     0.     0.     0.]\n"
     ]
    }
   ],
   "source": [
    "generate_data = np.zeros((len(data_frame[\"Sentence\"]), max_length))\n",
    "i=-1\n",
    "for new_words_2d_list in new_words_3d_list:\n",
    "    for words in new_words_2d_list:\n",
    "        i+=1\n",
    "        for j, word in enumerate(words):\n",
    "            if j >= max_length:\n",
    "                continue\n",
    "            generate_data[i,j] = word2index.get(word, 0)\n",
    "print(generate_data[0])\n",
    "print(generate_data[-1])"
   ]
  },
  {
   "cell_type": "code",
   "execution_count": 15,
   "metadata": {},
   "outputs": [
    {
     "name": "stdout",
     "output_type": "stream",
     "text": [
      "(12677, 256)\n",
      "(12677,)\n"
     ]
    }
   ],
   "source": [
    "train_dataset=generate_data\n",
    "train_lables = np.array(data_frame[\"Label\"])\n",
    "print(train_dataset.shape)\n",
    "print(train_lables.shape)"
   ]
  },
  {
   "cell_type": "code",
   "execution_count": 16,
   "metadata": {},
   "outputs": [
    {
     "name": "stdout",
     "output_type": "stream",
     "text": [
      "幽默： 3646  , 占比： 0.2876074781099629\n",
      "非幽默： 9031  , 占比： 0.7123925218900371\n"
     ]
    }
   ],
   "source": [
    "count_result = Counter(train_lables)\n",
    "print(\"幽默：\", count_result[1], \" , 占比：\", count_result[1] / len(train_lables))\n",
    "print(\"非幽默：\", count_result[0], \" , 占比：\", count_result[0] / len(train_lables))"
   ]
  },
  {
   "cell_type": "code",
   "execution_count": 17,
   "metadata": {},
   "outputs": [],
   "source": [
    "class Validation_Metrics(Callback):\n",
    "\n",
    "    def on_train_begin(self, logs={}):\n",
    "        self.val_f1s = []\n",
    "        self.val_recalls = []\n",
    "        self.val_precisions = []\n",
    "\n",
    "    def on_epoch_end(self, epoch, logs={}):\n",
    "        val_predict = (np.asarray(self.model.predict(\n",
    "            validate_data_x))).round()\n",
    "        val_targ = validate_data_y\n",
    "        _val_f1 = f1_score(val_targ, val_predict, pos_label=1)\n",
    "        _val_recall = recall_score(val_targ, val_predict, pos_label=1)\n",
    "        _val_precision = precision_score(val_targ, val_predict, pos_label=1)\n",
    "        _val_acc = accuracy_score(val_targ, val_predict)\n",
    "\n",
    "        print('\\nf1:', _val_f1, ', recall:', _val_recall, ', precision:', _val_precision, ', accuracy:', _val_acc)\n",
    "\n",
    "        self.val_f1s.append(_val_f1)\n",
    "        self.val_recalls.append(_val_recall)\n",
    "        self.val_precisions.append(_val_precision)\n",
    "        return"
   ]
  },
  {
   "cell_type": "code",
   "execution_count": null,
   "metadata": {},
   "outputs": [
    {
     "name": "stdout",
     "output_type": "stream",
     "text": [
      "Model: \"sequential\"\n",
      "_________________________________________________________________\n",
      "Layer (type)                 Output Shape              Param #   \n",
      "=================================================================\n",
      "embedding (Embedding)        (None, 256, 256)          3539968   \n",
      "_________________________________________________________________\n",
      "lstm (LSTM)                  (None, 256, 256)          525312    \n",
      "_________________________________________________________________\n",
      "lstm_1 (LSTM)                (None, 128)               197120    \n",
      "_________________________________________________________________\n",
      "dense (Dense)                (None, 64)                8256      \n",
      "_________________________________________________________________\n",
      "dense_1 (Dense)              (None, 1)                 65        \n",
      "=================================================================\n",
      "Total params: 4,270,721\n",
      "Trainable params: 4,270,721\n",
      "Non-trainable params: 0\n",
      "_________________________________________________________________\n",
      "Train on 10141 samples, validate on 2536 samples\n",
      "Epoch 1/20\n",
      " 9216/10141 [==========================>...] - ETA: 1s - loss: 0.6175 - acc: 0.7114"
     ]
    }
   ],
   "source": [
    "model = keras.Sequential()\n",
    "model.add(Embedding(vcab_size + 1, 256, input_length=max_length, mask_zero=True))\n",
    "model.add(LSTM(256, return_sequences=True))\n",
    "model.add(LSTM(128, activation='relu'))\n",
    "model.add(Dense(64, activation='relu'))\n",
    "model.add(Dense(1, activation='sigmoid'))\n",
    "model.compile(optimizer='rmsprop', loss='binary_crossentropy', metrics=['acc'])\n",
    "model.summary()\n",
    "\n",
    "# test_data_df, _, _, _ = prapare_without_tokenize(train_dev_data_path + \"cn_dev.csv\")\n",
    "# test_generate_data = generate_data(test_data_df, max_length)\n",
    "\n",
    "validation_metrics = Validation_Metrics()\n",
    "train_data_x, validate_data_x, train_data_y, validate_data_y = train_test_split(train_dataset, train_lables,\n",
    "                                                                                    test_size=0.2, random_state=24)\n",
    "history = model.fit(train_data_x, train_data_y, epochs=20, batch_size=256, callbacks=[validation_metrics],\n",
    "                    validation_data=(validate_data_x, validate_data_y))"
   ]
  },
  {
   "cell_type": "code",
   "execution_count": null,
   "metadata": {},
   "outputs": [],
   "source": []
  }
 ],
 "metadata": {
  "kernelspec": {
   "display_name": "Python 3",
   "language": "python",
   "name": "python3"
  },
  "language_info": {
   "codemirror_mode": {
    "name": "ipython",
    "version": 3
   },
   "file_extension": ".py",
   "mimetype": "text/x-python",
   "name": "python",
   "nbconvert_exporter": "python",
   "pygments_lexer": "ipython3",
   "version": "3.7.6"
  }
 },
 "nbformat": 4,
 "nbformat_minor": 4
}
